{
 "cells": [
  {
   "cell_type": "code",
   "execution_count": 145,
   "metadata": {},
   "outputs": [
    {
     "name": "stdout",
     "output_type": "stream",
     "text": [
      "The number of red blood cells detected is \n",
      "128\n"
     ]
    }
   ],
   "source": [
    "import cv2\n",
    "import numpy as np\n",
    "\n",
    "img = cv2.imread('red_blood_cell.jpg')\n",
    "kernel = cv2.getStructuringElement(cv2.MORPH_ELLIPSE,(15,15))\n",
    "closing = cv2.morphologyEx(img, cv2.MORPH_CLOSE, kernel)\n",
    "\n",
    "grey = cv2.cvtColor(closing, cv2.COLOR_BGR2GRAY)\n",
    "ret, binary = cv2.threshold(grey, 240, 255, cv2.THRESH_BINARY)\n",
    "edges = cv2.Canny(binary, 50, 210)\n",
    "circles = cv2.HoughCircles(binary, cv2.HOUGH_GRADIENT, 1, 15, param1=200,param2=10,minRadius=3,maxRadius=20)[0]\n",
    "                                                                                                        \n",
    "highlight_img = img.copy()\n",
    "print('The number of red blood cells detected is ')\n",
    "print(len(circles))\n",
    "\n",
    "for c in circles:\n",
    "    cv2.circle(highlight_img, (c[0], c[1]), c[2], (255, 0, 0), 2)\n",
    "\n",
    "cv2.imshow('binary after morphology', binary)\n",
    "cv2.imshow('canny edges', edges)\n",
    "cv2.putText(highlight_img, str(len(circles)), (5, 25), cv2.FONT_HERSHEY_SIMPLEX, 1, (0, 0, 0), 3, cv2.LINE_AA)\n",
    "cv2.imshow('highlighted circles', highlight_img)\n",
    "cv2.waitKey(0)\n",
    "cv2.destroyAllWindows()"
   ]
  }
 ],
 "metadata": {
  "kernelspec": {
   "display_name": "Python 3",
   "language": "python",
   "name": "python3"
  },
  "language_info": {
   "codemirror_mode": {
    "name": "ipython",
    "version": 3
   },
   "file_extension": ".py",
   "mimetype": "text/x-python",
   "name": "python",
   "nbconvert_exporter": "python",
   "pygments_lexer": "ipython3",
   "version": "3.7.4"
  }
 },
 "nbformat": 4,
 "nbformat_minor": 2
}
