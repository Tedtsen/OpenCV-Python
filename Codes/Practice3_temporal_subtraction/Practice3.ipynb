{
 "cells": [
  {
   "cell_type": "code",
   "execution_count": 17,
   "metadata": {},
   "outputs": [],
   "source": [
    "#I(t) - I(0)\n",
    "\n",
    "import cv2\n",
    "cap = cv2.VideoCapture(0)\n",
    "# Check if the webcam is opened correctly\n",
    "if not cap.isOpened():\n",
    "    raise IOError(\"Cannot open webcam\")\n",
    "cur_frame, prev_frame = None, None\n",
    "ret, frame = cap.read()\n",
    "prev_frame = cv2.resize(frame, None, fx=0.5, fy=0.5, interpolation=cv2.INTER_AREA)\n",
    "while True:\n",
    "    ret, frame = cap.read()\n",
    "    #prev_frame = cur_frame\n",
    "    cur_frame = cv2.resize(frame, None, fx=0.5, fy=0.5, interpolation=cv2.INTER_AREA)\n",
    "    if prev_frame is not None:\n",
    "        sub_frame = cv2.absdiff(cur_frame , prev_frame)\n",
    "        cv2.imshow('I(t) - I(0)', sub_frame)\n",
    "    c = cv2.waitKey(1)\n",
    "    if c == 27:\n",
    "        break\n",
    "cap.release()\n",
    "cv2.destroyAllWindows()"
   ]
  },
  {
   "cell_type": "code",
   "execution_count": null,
   "metadata": {},
   "outputs": [],
   "source": [
    "Temporal Subtraction:\n",
    "    I(t) - I(t-1), if two images are same (no moving object), \n",
    "    the result image is blank (output is all zeroes from abs. subtraction),\n",
    "    so if there is a moving object, \n",
    "    we can remove the static objects and background (displayed as black),\n",
    "    highlighting only the moving object\n",
    "    \n",
    "I(t) - I(0) approach:\n",
    "    The frame being subtracted is always the first frame,\n",
    "    so when the current frame is same as first frame (no new object),\n",
    "    the result image will be blank like the output for temporal sub.,\n",
    "    however the difference between this and temporal sub. is that,\n",
    "    when there is a new object (not present in first frame),\n",
    "    this approach will output the background image (with distortion\n",
    "    in colour and silhouette of new object as a result of abs. subtraction) \n",
    "    in the area covered by the new object.\n",
    "    \n",
    "    If the new object appeared in the new frame is a blank,\n",
    "    the output will be the original first frame with no distortion in colour.\n",
    "    If the first frame is a blank,\n",
    "    the output will be the original current frame captured by the webcam.\n",
    "    \n",
    "    "
   ]
  }
 ],
 "metadata": {
  "kernelspec": {
   "display_name": "Python 3",
   "language": "python",
   "name": "python3"
  },
  "language_info": {
   "codemirror_mode": {
    "name": "ipython",
    "version": 3
   },
   "file_extension": ".py",
   "mimetype": "text/x-python",
   "name": "python",
   "nbconvert_exporter": "python",
   "pygments_lexer": "ipython3",
   "version": "3.7.4"
  }
 },
 "nbformat": 4,
 "nbformat_minor": 2
}
