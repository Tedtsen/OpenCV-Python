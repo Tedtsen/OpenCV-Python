{
 "cells": [
  {
   "cell_type": "code",
   "execution_count": 1,
   "metadata": {},
   "outputs": [],
   "source": [
    "import cv2\n",
    "import numpy as np\n",
    "cap = cv2.VideoCapture(0)\n",
    "\n",
    "if not cap.isOpened():\n",
    "    raise IOError(\"Cannot open webcam\")\n",
    "    \n",
    "global_x = 0\n",
    "global_y = 0\n",
    "\n",
    "def mouse_callback(event, _x, _y, flags, param):\n",
    "    global global_x\n",
    "    global global_y\n",
    "    if event == cv2.EVENT_MOUSEMOVE:\n",
    "        global_x, global_y = _x, _y\n",
    "        \n",
    "cv2.namedWindow('webcam')      \n",
    "cv2.setMouseCallback('webcam', mouse_callback)\n",
    "\n",
    "while True:\n",
    "    ret, frame = cap.read()\n",
    "    cur_frame = cv2.resize(frame,None,fx=1,fy=1,interpolation=cv2.INTER_AREA)\n",
    "    height, width, channels = cur_frame.shape\n",
    "    grey_frame = cv2.cvtColor(cur_frame, cv2.COLOR_BGR2GRAY)\n",
    "    grey_frame = np.float32(grey_frame)\n",
    "    \n",
    "    harris = cv2.cornerHarris(grey_frame, blockSize=5, ksize=5, k=0.04)\n",
    "    harris = cv2.dilate(harris, None)\n",
    "    cur_frame[harris > 0.0009*harris.max()] = [255,0,0]\n",
    "    '''max, max_i, max_j = 0, 0, 0\n",
    "    for row in range (0, height, 1):\n",
    "        for col in range (0, width, 1):\n",
    "            for i in range (row, row+10):\n",
    "                for j in range (col, col+10):\n",
    "                    if (i>=height-1 and j>=width-1):\n",
    "                        break\n",
    "                    elif (max < harris[i, j]):\n",
    "                        max = harris[i, j]\n",
    "                        max_i = i\n",
    "                        max_j = j\n",
    "            cur_frame[max_i, max_j] = [0, 0, 255]'''\n",
    "    \n",
    "    # Draw\n",
    "    show_str = 'x:{} y:{} '.format(global_x, global_y)\n",
    "    harris_val_str = 'resp. val:{}'.format(harris[global_y, global_x])\n",
    "    cv2.rectangle(cur_frame, (10, 0), (224, 30), (255, 255, 255), -1)\n",
    "    cv2.putText(cur_frame, show_str, (10, 25), cv2.FONT_HERSHEY_SIMPLEX, 1, (0, 0, 255), 1)\n",
    "    cv2.putText(cur_frame, harris_val_str, (10, 55), cv2.FONT_HERSHEY_SIMPLEX, 1, (0, 0, 255), 1)\n",
    "    # Draw End\n",
    "\n",
    "    cv2.imshow('webcam', cur_frame)\n",
    "    c = cv2.waitKey(1)\n",
    "    if c == 27:\n",
    "        break\n",
    "cap.release()\n",
    "cv2.destroyAllWindows()"
   ]
  }
 ],
 "metadata": {
  "kernelspec": {
   "display_name": "Python 3",
   "language": "python",
   "name": "python3"
  },
  "language_info": {
   "codemirror_mode": {
    "name": "ipython",
    "version": 3
   },
   "file_extension": ".py",
   "mimetype": "text/x-python",
   "name": "python",
   "nbconvert_exporter": "python",
   "pygments_lexer": "ipython3",
   "version": "3.7.3"
  }
 },
 "nbformat": 4,
 "nbformat_minor": 2
}
